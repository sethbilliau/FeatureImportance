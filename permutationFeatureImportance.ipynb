{
 "cells": [
  {
   "cell_type": "markdown",
   "metadata": {},
   "source": [
    "# Permutation Feature Importance Notebook \n",
    "Author: Seth Billiau \n",
    "\n",
    "https://sethbilliau.com/\n",
    "\n",
    "https://github.com/sethbilliau"
   ]
  },
  {
   "cell_type": "code",
   "execution_count": 341,
   "metadata": {},
   "outputs": [],
   "source": [
    "import numpy as np \n",
    "import pandas as pd \n",
    "\n",
    "\n",
    "def generate_data(N, N_dummies):\n",
    "    '''\n",
    "    Generate the data set according to the specified equation\n",
    "    '''\n",
    "    lst = []\n",
    "    for i in range(N):\n",
    "        house = {}\n",
    "        # Generate color\n",
    "        if np.random.binomial(1, 0.7) == 1: \n",
    "            house['color'] = 'red'\n",
    "        else: \n",
    "            house['color'] = 'blue'\n",
    "        \n",
    "        # Generate 3 scores\n",
    "        house['density'] = np.random.normal(0, 1)\n",
    "        house['crime'] = np.random.normal(0, 1)\n",
    "        house['education'] = np.random.normal(0, 1)\n",
    "\n",
    "        # get price\n",
    "        house['price'] = (50000 * (house['color'] == 'red') + 20000 * (house['color'] == 'blue') +\n",
    "                          7000 * house['density'] - \n",
    "                          3000 * np.sin(house['crime']) +\n",
    "                          15000 * house['education']**2)\n",
    "\n",
    "        lst.append(house)\n",
    "    df = pd.DataFrame(lst)\n",
    "\n",
    "    # Generate Dummy Predictors independent of price\n",
    "    for i in range(N_dummies): \n",
    "        df['dummyPred' + str(i + 1)] = np.random.normal(0, 1, N)\n",
    "        \n",
    "    price = df.pop('price')\n",
    "    df['price'] = price\n",
    "    return df"
   ]
  },
  {
   "cell_type": "code",
   "execution_count": 342,
   "metadata": {},
   "outputs": [
    {
     "data": {
      "text/html": [
       "<div>\n",
       "<style scoped>\n",
       "    .dataframe tbody tr th:only-of-type {\n",
       "        vertical-align: middle;\n",
       "    }\n",
       "\n",
       "    .dataframe tbody tr th {\n",
       "        vertical-align: top;\n",
       "    }\n",
       "\n",
       "    .dataframe thead th {\n",
       "        text-align: right;\n",
       "    }\n",
       "</style>\n",
       "<table border=\"1\" class=\"dataframe\">\n",
       "  <thead>\n",
       "    <tr style=\"text-align: right;\">\n",
       "      <th></th>\n",
       "      <th>color</th>\n",
       "      <th>density</th>\n",
       "      <th>crime</th>\n",
       "      <th>education</th>\n",
       "      <th>dummyPred1</th>\n",
       "      <th>dummyPred2</th>\n",
       "      <th>dummyPred3</th>\n",
       "      <th>dummyPred4</th>\n",
       "      <th>dummyPred5</th>\n",
       "      <th>price</th>\n",
       "    </tr>\n",
       "  </thead>\n",
       "  <tbody>\n",
       "    <tr>\n",
       "      <th>0</th>\n",
       "      <td>blue</td>\n",
       "      <td>2.27</td>\n",
       "      <td>0.16</td>\n",
       "      <td>0.76</td>\n",
       "      <td>0.90</td>\n",
       "      <td>1.81</td>\n",
       "      <td>-0.12</td>\n",
       "      <td>-0.21</td>\n",
       "      <td>1.01</td>\n",
       "      <td>44106.07</td>\n",
       "    </tr>\n",
       "    <tr>\n",
       "      <th>1</th>\n",
       "      <td>red</td>\n",
       "      <td>-0.93</td>\n",
       "      <td>-0.53</td>\n",
       "      <td>-0.08</td>\n",
       "      <td>-1.09</td>\n",
       "      <td>0.85</td>\n",
       "      <td>0.07</td>\n",
       "      <td>0.75</td>\n",
       "      <td>-0.27</td>\n",
       "      <td>45126.69</td>\n",
       "    </tr>\n",
       "    <tr>\n",
       "      <th>2</th>\n",
       "      <td>blue</td>\n",
       "      <td>0.07</td>\n",
       "      <td>-1.47</td>\n",
       "      <td>-0.82</td>\n",
       "      <td>-0.03</td>\n",
       "      <td>0.66</td>\n",
       "      <td>1.38</td>\n",
       "      <td>1.90</td>\n",
       "      <td>1.77</td>\n",
       "      <td>33435.81</td>\n",
       "    </tr>\n",
       "    <tr>\n",
       "      <th>3</th>\n",
       "      <td>red</td>\n",
       "      <td>-0.85</td>\n",
       "      <td>1.09</td>\n",
       "      <td>-1.31</td>\n",
       "      <td>-1.05</td>\n",
       "      <td>-2.01</td>\n",
       "      <td>-0.46</td>\n",
       "      <td>-0.29</td>\n",
       "      <td>0.06</td>\n",
       "      <td>66976.54</td>\n",
       "    </tr>\n",
       "    <tr>\n",
       "      <th>4</th>\n",
       "      <td>red</td>\n",
       "      <td>-0.59</td>\n",
       "      <td>-2.42</td>\n",
       "      <td>-1.00</td>\n",
       "      <td>1.14</td>\n",
       "      <td>1.26</td>\n",
       "      <td>1.59</td>\n",
       "      <td>-1.53</td>\n",
       "      <td>-0.53</td>\n",
       "      <td>62889.80</td>\n",
       "    </tr>\n",
       "  </tbody>\n",
       "</table>\n",
       "</div>"
      ],
      "text/plain": [
       "  color  density  crime  education  dummyPred1  dummyPred2  dummyPred3  \\\n",
       "0  blue     2.27   0.16       0.76        0.90        1.81       -0.12   \n",
       "1   red    -0.93  -0.53      -0.08       -1.09        0.85        0.07   \n",
       "2  blue     0.07  -1.47      -0.82       -0.03        0.66        1.38   \n",
       "3   red    -0.85   1.09      -1.31       -1.05       -2.01       -0.46   \n",
       "4   red    -0.59  -2.42      -1.00        1.14        1.26        1.59   \n",
       "\n",
       "   dummyPred4  dummyPred5     price  \n",
       "0       -0.21        1.01  44106.07  \n",
       "1        0.75       -0.27  45126.69  \n",
       "2        1.90        1.77  33435.81  \n",
       "3       -0.29        0.06  66976.54  \n",
       "4       -1.53       -0.53  62889.80  "
      ]
     },
     "execution_count": 342,
     "metadata": {},
     "output_type": "execute_result"
    }
   ],
   "source": [
    "# Initialize Number of data points and dummy variables\n",
    "N = 10000\n",
    "N_dummies = 5\n",
    "\n",
    "df = generate_data(N, N_dummies)\n",
    "np.round(df.head(), 2)"
   ]
  },
  {
   "cell_type": "markdown",
   "metadata": {},
   "source": [
    "### Train Test Split, Train RF"
   ]
  },
  {
   "cell_type": "code",
   "execution_count": 343,
   "metadata": {},
   "outputs": [
    {
     "data": {
      "text/plain": [
       "RandomForestRegressor(max_depth=100, random_state=0)"
      ]
     },
     "execution_count": 343,
     "metadata": {},
     "output_type": "execute_result"
    }
   ],
   "source": [
    "from sklearn.model_selection import train_test_split \n",
    "from sklearn.ensemble import RandomForestRegressor\n",
    "\n",
    "X = df.drop(columns = 'price')\n",
    "X['color'] = (X['color'] == 'red')\n",
    "y = df.price\n",
    "\n",
    "# Train Test Split\n",
    "X_train, X_test, y_train, y_test = train_test_split(X, y,\n",
    "                                                    test_size=0.33, \n",
    "                                                    random_state=42)\n",
    "\n",
    "\n",
    "# Instantiate a Random Forest Regressor\n",
    "regr = RandomForestRegressor(max_depth=100, random_state=0)\n",
    "\n",
    "# Fit a random forest regressor\n",
    "regr.fit(X_train, y_train)\n"
   ]
  },
  {
   "cell_type": "markdown",
   "metadata": {},
   "source": [
    "### Evaluate MSE"
   ]
  },
  {
   "cell_type": "code",
   "execution_count": 344,
   "metadata": {},
   "outputs": [
    {
     "data": {
      "text/plain": [
       "2271.886423156421"
      ]
     },
     "execution_count": 344,
     "metadata": {},
     "output_type": "execute_result"
    }
   ],
   "source": [
    "from sklearn.metrics import mean_squared_error\n",
    "\n",
    "rmse_full_mod = mean_squared_error(regr.predict(X_test), y_test, squared = False)\n",
    "rmse_full_mod"
   ]
  },
  {
   "cell_type": "markdown",
   "metadata": {},
   "source": [
    "# Implement Permutation feature importance\n"
   ]
  },
  {
   "cell_type": "code",
   "execution_count": 366,
   "metadata": {},
   "outputs": [],
   "source": [
    "# Initialize a list of results\n",
    "results = []\n",
    "\n",
    "# Iterate through each predictor\n",
    "for predictor in X_test:\n",
    "    \n",
    "    # Create a copy of X_test\n",
    "    X_test_copy = X_test.copy()\n",
    "    \n",
    "    # Scramble the values of the given predictor\n",
    "    X_test_copy[predictor] = X_test[predictor].sample(frac=1).values\n",
    "    \n",
    "    # Calculate the new RMSE\n",
    "    new_rmse = mean_squared_error(regr.predict(X_test_copy), y_test, squared = False)\n",
    "    \n",
    "    # Append the increase in MSE to the list of results \n",
    "    results.append({'pred': predictor,\n",
    "                    'score': new_rmse - rmse_full_mod })\n",
    "\n",
    "# Put the results into a pandas dataframe and rank the predictors by score\n",
    "resultsdf = pd.DataFrame(results).sort_values(by = 'score', ascending = False)\n",
    "    "
   ]
  },
  {
   "cell_type": "code",
   "execution_count": 367,
   "metadata": {},
   "outputs": [
    {
     "data": {
      "text/html": [
       "<div>\n",
       "<style scoped>\n",
       "    .dataframe tbody tr th:only-of-type {\n",
       "        vertical-align: middle;\n",
       "    }\n",
       "\n",
       "    .dataframe tbody tr th {\n",
       "        vertical-align: top;\n",
       "    }\n",
       "\n",
       "    .dataframe thead th {\n",
       "        text-align: right;\n",
       "    }\n",
       "</style>\n",
       "<table border=\"1\" class=\"dataframe\">\n",
       "  <thead>\n",
       "    <tr style=\"text-align: right;\">\n",
       "      <th></th>\n",
       "      <th>pred</th>\n",
       "      <th>score</th>\n",
       "    </tr>\n",
       "  </thead>\n",
       "  <tbody>\n",
       "    <tr>\n",
       "      <th>3</th>\n",
       "      <td>education</td>\n",
       "      <td>27746.934948</td>\n",
       "    </tr>\n",
       "    <tr>\n",
       "      <th>0</th>\n",
       "      <td>color</td>\n",
       "      <td>17520.959659</td>\n",
       "    </tr>\n",
       "    <tr>\n",
       "      <th>1</th>\n",
       "      <td>density</td>\n",
       "      <td>7162.578719</td>\n",
       "    </tr>\n",
       "    <tr>\n",
       "      <th>2</th>\n",
       "      <td>crime</td>\n",
       "      <td>956.246532</td>\n",
       "    </tr>\n",
       "    <tr>\n",
       "      <th>7</th>\n",
       "      <td>dummyPred4</td>\n",
       "      <td>25.519156</td>\n",
       "    </tr>\n",
       "    <tr>\n",
       "      <th>4</th>\n",
       "      <td>dummyPred1</td>\n",
       "      <td>19.155346</td>\n",
       "    </tr>\n",
       "    <tr>\n",
       "      <th>8</th>\n",
       "      <td>dummyPred5</td>\n",
       "      <td>16.180472</td>\n",
       "    </tr>\n",
       "    <tr>\n",
       "      <th>5</th>\n",
       "      <td>dummyPred2</td>\n",
       "      <td>3.577779</td>\n",
       "    </tr>\n",
       "    <tr>\n",
       "      <th>6</th>\n",
       "      <td>dummyPred3</td>\n",
       "      <td>-14.230027</td>\n",
       "    </tr>\n",
       "  </tbody>\n",
       "</table>\n",
       "</div>"
      ],
      "text/plain": [
       "         pred         score\n",
       "3   education  27746.934948\n",
       "0       color  17520.959659\n",
       "1     density   7162.578719\n",
       "2       crime    956.246532\n",
       "7  dummyPred4     25.519156\n",
       "4  dummyPred1     19.155346\n",
       "8  dummyPred5     16.180472\n",
       "5  dummyPred2      3.577779\n",
       "6  dummyPred3    -14.230027"
      ]
     },
     "execution_count": 367,
     "metadata": {},
     "output_type": "execute_result"
    }
   ],
   "source": [
    "resultsdf"
   ]
  },
  {
   "cell_type": "code",
   "execution_count": 369,
   "metadata": {},
   "outputs": [
    {
     "data": {
      "image/png": "[encoded data removed]",
      "text/plain": [
       "<Figure size 432x288 with 1 Axes>"
      ]
     },
     "metadata": {
      "needs_background": "light"
     },
     "output_type": "display_data"
    }
   ],
   "source": [
    "import matplotlib.pyplot as plt\n",
    "fig = plt.figure()\n",
    "ax = fig.add_axes([0,0,1,1])\n",
    "ax.set_ylabel('Increase in RMSE')\n",
    "ax.set_xlabel('Predictor')\n",
    "ax.set_title('Permutation Feature Importance')\n",
    "\n",
    "predictors = resultsdf.pred\n",
    "y_pos = range(len(predictors))\n",
    "scores = resultsdf.score\n",
    "ax.bar(predictors,scores)\n",
    "plt.xticks(y_pos, predictors, rotation=45)\n",
    "plt.show()"
   ]
  },
  {
   "cell_type": "code",
   "execution_count": null,
   "metadata": {},
   "outputs": [],
   "source": []
  },
  {
   "cell_type": "code",
   "execution_count": null,
   "metadata": {},
   "outputs": [],
   "source": []
  }
 ],
 "metadata": {
  "kernelspec": {
   "display_name": "Python 3",
   "language": "python",
   "name": "python3"
  },
  "language_info": {
   "codemirror_mode": {
    "name": "ipython",
    "version": 3
   },
   "file_extension": ".py",
   "mimetype": "text/x-python",
   "name": "python",
   "nbconvert_exporter": "python",
   "pygments_lexer": "ipython3",
   "version": "3.7.3"
  }
 },
 "nbformat": 4,
 "nbformat_minor": 4
}
